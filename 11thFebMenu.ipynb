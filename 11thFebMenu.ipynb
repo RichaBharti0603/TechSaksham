{
 "cells": [
  {
   "cell_type": "code",
   "execution_count": 13,
   "id": "a9c63812-51b5-494c-9b5c-671d0a3dcba8",
   "metadata": {},
   "outputs": [
    {
     "name": "stdin",
     "output_type": "stream",
     "text": [
      "Enter string you want to search frequency of vowels in: hello\n"
     ]
    },
    {
     "name": "stdout",
     "output_type": "stream",
     "text": [
      "2\n"
     ]
    }
   ],
   "source": [
    "#WAP to find frequency of vowels in given string\n",
    "str =input(\"Enter string you want to search frequency of vowels in:\")\n",
    "count =0\n",
    "for i in str:\n",
    "    if (i=='a' or i=='A' or i=='e'or i=='E'or i=='I'or i=='i'or i=='o'or i=='O'or i=='u'or i=='U'):\n",
    "      count = count +1\n",
    "    else:\n",
    "        continue\n",
    "print (count)"
   ]
  },
  {
   "cell_type": "code",
   "execution_count": 10,
   "id": "33883ec5-0e7e-4ec6-ad49-4b565ed4b7ad",
   "metadata": {},
   "outputs": [
    {
     "name": "stdout",
     "output_type": "stream",
     "text": [
      "Hi\n"
     ]
    }
   ],
   "source": [
    "if \"g\":\n",
    "    print(\"Hi\")"
   ]
  },
  {
   "cell_type": "code",
   "execution_count": null,
   "id": "9096c1f6-1832-4c37-b309-4a2349383cc7",
   "metadata": {},
   "outputs": [],
   "source": []
  }
 ],
 "metadata": {
  "kernelspec": {
   "display_name": "Python 3 (ipykernel)",
   "language": "python",
   "name": "python3"
  },
  "language_info": {
   "codemirror_mode": {
    "name": "ipython",
    "version": 3
   },
   "file_extension": ".py",
   "mimetype": "text/x-python",
   "name": "python",
   "nbconvert_exporter": "python",
   "pygments_lexer": "ipython3",
   "version": "3.12.7"
  }
 },
 "nbformat": 4,
 "nbformat_minor": 5
}
