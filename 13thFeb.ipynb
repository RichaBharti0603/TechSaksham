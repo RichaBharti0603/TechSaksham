{
 "cells": [
  {
   "cell_type": "code",
   "execution_count": 11,
   "id": "6dffff0a-70f5-4250-8855-9478290ea9a4",
   "metadata": {},
   "outputs": [
    {
     "name": "stdout",
     "output_type": "stream",
     "text": [
      "Make -> Maruti \n",
      " Model -> XL6 \n",
      " Year -> 2004\n"
     ]
    }
   ],
   "source": [
    "#Design a system where each object represents a vehicle with attributes for make, model and year. Implement methods to display the vehicles details and\n",
    "#update its manifacturing year.Create a vehicle object, display its details, update its year, and display the updated detail.\n",
    "class vehicle:\n",
    "    def __init__(self,make,model,year):\n",
    "        self.make = make\n",
    "        self.model = model\n",
    "        self.year = year\n",
    "    def display(self):\n",
    "        print (\"Make -> {} \\n Model -> {} \\n Year -> {}\".format(self.make ,self.model , self.year))\n",
    "    def updateYear(self,year):\n",
    "        self.year = year\n",
    "c1=vehicle(\"Maruti\",\"XL6\", 2004)\n",
    "c1.display()\n",
    "c1.updateYear(2005)"
   ]
  },
  {
   "cell_type": "code",
   "execution_count": 18,
   "id": "8d8d6ad3-9e74-4ad9-9cfb-07d5dc90b50b",
   "metadata": {},
   "outputs": [
    {
     "name": "stdin",
     "output_type": "stream",
     "text": [
      "Enter new Book java\n",
      "Enter book to remove Harry Potter\n"
     ]
    },
    {
     "ename": "ValueError",
     "evalue": "list.remove(x): x not in list",
     "output_type": "error",
     "traceback": [
      "\u001b[1;31m---------------------------------------------------------------------------\u001b[0m",
      "\u001b[1;31mValueError\u001b[0m                                Traceback (most recent call last)",
      "Cell \u001b[1;32mIn[18], line 23\u001b[0m\n\u001b[0;32m     21\u001b[0m Library \u001b[38;5;241m=\u001b[39m collectionOfBooks([\u001b[38;5;124m\"\u001b[39m\u001b[38;5;124mHarry Potter\u001b[39m\u001b[38;5;124m\"\u001b[39m,\u001b[38;5;124m\"\u001b[39m\u001b[38;5;124mPremchand Ki Kahaniya\u001b[39m\u001b[38;5;124m\"\u001b[39m])\n\u001b[0;32m     22\u001b[0m Library\u001b[38;5;241m.\u001b[39maddBook(\u001b[38;5;124m\"\u001b[39m\u001b[38;5;124mLife Of a Monk\u001b[39m\u001b[38;5;124m\"\u001b[39m)\n\u001b[1;32m---> 23\u001b[0m Library\u001b[38;5;241m.\u001b[39mremoveBook(\u001b[38;5;124m\"\u001b[39m\u001b[38;5;124mPremchand Ki Kahaniya\u001b[39m\u001b[38;5;124m\"\u001b[39m)\n\u001b[0;32m     24\u001b[0m Library\u001b[38;5;241m.\u001b[39mdisplayAllBooks\n",
      "Cell \u001b[1;32mIn[18], line 15\u001b[0m, in \u001b[0;36mcollectionOfBooks.removeBook\u001b[1;34m(self, BookToRemove)\u001b[0m\n\u001b[0;32m     13\u001b[0m \u001b[38;5;28;01mdef\u001b[39;00m \u001b[38;5;21mremoveBook\u001b[39m(\u001b[38;5;28mself\u001b[39m, BookToRemove):\n\u001b[0;32m     14\u001b[0m     BookToRemove \u001b[38;5;241m=\u001b[39m \u001b[38;5;28minput\u001b[39m(\u001b[38;5;124m\"\u001b[39m\u001b[38;5;124mEnter book to remove\u001b[39m\u001b[38;5;124m\"\u001b[39m)\n\u001b[1;32m---> 15\u001b[0m     \u001b[38;5;28mself\u001b[39m\u001b[38;5;241m.\u001b[39mListOfBooks\u001b[38;5;241m.\u001b[39mremove(BookToRemove)\n",
      "\u001b[1;31mValueError\u001b[0m: list.remove(x): x not in list"
     ]
    }
   ],
   "source": [
    "# Build a system to manage a collection of books . Each library object should store a list of book titles. Implement methods to add a book, remove a book \n",
    "#and list all books in the collection.Create a library object, add and remove books, and list the current collection of books.\n",
    "class collectionOfBooks:\n",
    "    def __init__(self, bookTitles):\n",
    "        self.ListOfBooks=[]\n",
    "        self.bookTitles = bookTitles\n",
    "        self.ListOfBooks\n",
    "        \n",
    "    def addBook(self,newBook):\n",
    "        newBook = input(\"Enter new Book\")\n",
    "        self.ListOfBooks.append(newBook)\n",
    "        \n",
    "    def removeBook(self, BookToRemove):\n",
    "        BookToRemove = input(\"Enter book to remove\")\n",
    "        self.ListOfBooks.remove(BookToRemove)\n",
    "\n",
    "    def displayAllBooks():\n",
    "        for i in self.bookTitles:\n",
    "            print(i)\n",
    "\n",
    "Library = collectionOfBooks([\"Harry Potter\",\"Premchand Ki Kahaniya\"])\n",
    "Library.addBook(\"Life Of a Monk\")\n",
    "Library.removeBook(\"Premchand Ki Kahaniya\")\n",
    "Library.displayAllBooks\n",
    "\n",
    "                                       "
   ]
  },
  {
   "cell_type": "code",
   "execution_count": 21,
   "id": "3811598d-cf9e-4eb7-a3ae-e55d7462a9b8",
   "metadata": {},
   "outputs": [
    {
     "name": "stdin",
     "output_type": "stream",
     "text": [
      "Enter new Book java\n",
      "Enter book to remove Harry Potter\n"
     ]
    },
    {
     "name": "stdout",
     "output_type": "stream",
     "text": [
      "Premchand Ki Kahaniya\n",
      "java\n"
     ]
    }
   ],
   "source": [
    "class collectionOfBooks:\n",
    "    def __init__(self, ListOfBooks):\n",
    "        self.ListOfBooks=ListOfBooks\n",
    "        \n",
    "    def addBook(self,newBook):\n",
    "        newBook = input(\"Enter new Book\")\n",
    "        self.ListOfBooks.append(newBook)\n",
    "        \n",
    "    def removeBook(self, BookToRemove):\n",
    "        BookToRemove = input(\"Enter book to remove\")\n",
    "        self.ListOfBooks.remove(BookToRemove)\n",
    "\n",
    "    def displayAllBooks(self):\n",
    "        for i in self.ListOfBooks:\n",
    "            print(i)\n",
    "\n",
    "Library = collectionOfBooks([\"Harry Potter\",\"Premchand Ki Kahaniya\"])\n",
    "Library.addBook(\"Life Of a Monk\")\n",
    "Library.removeBook(\"Premchand Ki Kahaniya\")\n",
    "Library.displayAllBooks()"
   ]
  },
  {
   "cell_type": "code",
   "execution_count": 30,
   "id": "254a82a9-ccfc-44da-92f4-4c89338ebedd",
   "metadata": {},
   "outputs": [],
   "source": [
    "class A:\n",
    "    def __init__(self):\n",
    "        self.a =10\n",
    "    def display1(self):\n",
    "        print(\"I am a parent\")\n",
    "class B(A):\n",
    "    def __init__(self,b):\n",
    "        def display2(self):\n",
    "            print(\"I am child\")\n",
    "A1= B(\"hi\")"
   ]
  },
  {
   "cell_type": "code",
   "execution_count": 33,
   "id": "3a7abc2b-f9a8-4080-8103-df37a79d6462",
   "metadata": {},
   "outputs": [
    {
     "name": "stdout",
     "output_type": "stream",
     "text": [
      "1.0\n",
      "2.0\n"
     ]
    }
   ],
   "source": [
    "class Line:\n",
    "    def __init__(self,p1,p2):\n",
    "      self.p1 = p1\n",
    "      self.p2 = p2\n",
    "    def slope( self):\n",
    "        s = (self.p2[1] - self.p1[1])/(self.p2[0] - self.p1[0])\n",
    "        print (s)\n",
    "    def distance(self):\n",
    "        d =(((self.p2[0] - self.p1[0])**2) + ((self.p2[1] -self.p1[1]**2))**0.5)\n",
    "        print(d)\n",
    "l1 =Line((1,1),(2,2))\n",
    "l1.slope()\n",
    "l1.distance()\n",
    "    "
   ]
  },
  {
   "cell_type": "code",
   "execution_count": null,
   "id": "582226c5-b8ad-4d69-b65d-d12663b1f394",
   "metadata": {},
   "outputs": [],
   "source": [
    "class Student:\n",
    "    def __init__(self, stuid, name, branch):\n",
    "        self.stuid = stuid\n",
    "        self.name = name\n",
    "        self.branch = branch "
   ]
  },
  {
   "cell_type": "code",
   "execution_count": null,
   "id": "dbe08a6d-ca6b-4eca-9a7d-5faae5abc168",
   "metadata": {},
   "outputs": [],
   "source": []
  }
 ],
 "metadata": {
  "kernelspec": {
   "display_name": "Python 3 (ipykernel)",
   "language": "python",
   "name": "python3"
  },
  "language_info": {
   "codemirror_mode": {
    "name": "ipython",
    "version": 3
   },
   "file_extension": ".py",
   "mimetype": "text/x-python",
   "name": "python",
   "nbconvert_exporter": "python",
   "pygments_lexer": "ipython3",
   "version": "3.12.7"
  }
 },
 "nbformat": 4,
 "nbformat_minor": 5
}
