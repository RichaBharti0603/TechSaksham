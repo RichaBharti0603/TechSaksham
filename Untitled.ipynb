{
 "cells": [
  {
   "cell_type": "code",
   "execution_count": 1,
   "id": "185d1a59-693a-46c8-8996-c72b179ecee6",
   "metadata": {},
   "outputs": [
    {
     "name": "stdin",
     "output_type": "stream",
     "text": [
      " 12,23\n"
     ]
    },
    {
     "name": "stdout",
     "output_type": "stream",
     "text": [
      "12,23\n"
     ]
    }
   ],
   "source": [
    "l=[]\n",
    "data =input()\n",
    "print(data)"
   ]
  },
  {
   "cell_type": "code",
   "execution_count": 2,
   "id": "4a23b872-677d-4ad8-8bd9-415cb988a1bd",
   "metadata": {},
   "outputs": [
    {
     "name": "stdout",
     "output_type": "stream",
     "text": [
      "<class 'str'>\n"
     ]
    }
   ],
   "source": [
    "print(type(data))"
   ]
  },
  {
   "cell_type": "code",
   "execution_count": 4,
   "id": "fd5daeeb-f523-493a-b5b2-53d135221088",
   "metadata": {},
   "outputs": [
    {
     "data": {
      "text/plain": [
       "['12', '23', '34', '45']"
      ]
     },
     "execution_count": 4,
     "metadata": {},
     "output_type": "execute_result"
    }
   ],
   "source": [
    "str =\"12,23,34,45\"\n",
    "str.split(sep=\",\")"
   ]
  },
  {
   "cell_type": "markdown",
   "id": "e4bb0499-a46a-4e1c-9e67-5e14ddde6d7f",
   "metadata": {},
   "source": [
    "l=[]\n",
    "data = input().split(\",\")\n",
    "for val in data:\n",
    "    l.append(int (val))\n",
    "print(l)\n"
   ]
  },
  {
   "cell_type": "code",
   "execution_count": null,
   "id": "23926d62-d44b-4e50-ba0a-6699841fe7f2",
   "metadata": {},
   "outputs": [],
   "source": [
    "l1 = "
   ]
  }
 ],
 "metadata": {
  "kernelspec": {
   "display_name": "Python 3 (ipykernel)",
   "language": "python",
   "name": "python3"
  },
  "language_info": {
   "codemirror_mode": {
    "name": "ipython",
    "version": 3
   },
   "file_extension": ".py",
   "mimetype": "text/x-python",
   "name": "python",
   "nbconvert_exporter": "python",
   "pygments_lexer": "ipython3",
   "version": "3.12.7"
  }
 },
 "nbformat": 4,
 "nbformat_minor": 5
}
