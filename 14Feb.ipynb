{
 "cells": [
  {
   "cell_type": "code",
   "execution_count": 3,
   "id": "582bcc8a-b0e2-4312-a914-3ff937278162",
   "metadata": {},
   "outputs": [
    {
     "name": "stdout",
     "output_type": "stream",
     "text": [
      "i am static method\n",
      "i am static method\n",
      "i am instance method\n"
     ]
    }
   ],
   "source": [
    "#instance method and static method\n",
    "class abc:\n",
    "    #instance method\n",
    "    def display(self):\n",
    "        print(\"i am instance method\")\n",
    "    #static method\n",
    "    @staticmethod\n",
    "    def info():\n",
    "        print(\"i am static method\")\n",
    "c = abc()\n",
    "c.info()\n",
    "abc.info()\n",
    "c.display()\n",
    "#abc.display()  ......will give an error"
   ]
  },
  {
   "cell_type": "code",
   "execution_count": 10,
   "id": "e8c2992c-7cd6-47f9-8106-394170bfbd07",
   "metadata": {},
   "outputs": [
    {
     "name": "stdout",
     "output_type": "stream",
     "text": [
      "20\n"
     ]
    }
   ],
   "source": [
    "#setter and getter method\n",
    "#setter: to set the value\n",
    "#getter: to get the value\n",
    "#access specifiers\n",
    "\n",
    "class abc:\n",
    "    def __init__(self):\n",
    "        self.p =10\n",
    "        self.__priv=20\n",
    "        self._pro = 30\n",
    "        #update the value of private method \n",
    "    def setpriv(self,val):\n",
    "        self.__priv =val\n",
    "    def getpriv(self):\n",
    "        print(self.__priv)\n",
    "\n",
    "a = abc()\n",
    "#a.__priv   will give error as it is private\n",
    "a._pro #is protected but can be acccessible within class and derived class\n",
    "a._abc__priv #private but accessible through this syntax\n",
    "# a.setpriv(12)...will give an error as it is protected\n",
    "a.getpriv()"
   ]
  },
  {
   "cell_type": "code",
   "execution_count": 21,
   "id": "bea3198d-b31a-44f0-a5a3-ef17fabaa629",
   "metadata": {},
   "outputs": [],
   "source": [
    "#abstract class\n",
    "from abc import ABC, abstractmethod #abstract base class\n",
    "#abstract class\n",
    "class bank(ABC):\n",
    "    #abstract method\n",
    "    @abstractmethod\n",
    "    def verifyId(self):\n",
    "        pass\n",
    "    def display(Self):\n",
    "        print(\"hii\")\n",
    "# b= bank()....will give an error as it is an abstract class . absence of abstract method will create an object.\n",
    "#class apnabank(bank):\n",
    "    #pass\n",
    "# ap = apnabank()....will give an error as abstract method is not defined\n",
    "class apnabank(bank):\n",
    "    def verifyId(self):\n",
    "        print(\"i am inside apnabank\")\n",
    "            \n",
    "ap = apnabank()\n",
    "\n"
   ]
  },
  {
   "cell_type": "code",
   "execution_count": 35,
   "id": "b3d0e9a2-5e08-4ff9-acaa-801687487501",
   "metadata": {},
   "outputs": [
    {
     "name": "stdout",
     "output_type": "stream",
     "text": [
      "12.56\n"
     ]
    }
   ],
   "source": [
    "#Write a abstract class- shape\n",
    "from abc import ABC, abstractmethod\n",
    "class shape(ABC):\n",
    "    @abstractmethod\n",
    "    def area(self):\n",
    "        pass\n",
    "    @abstractmethod\n",
    "    def perimeter(self):\n",
    "        pass\n",
    "\n",
    "class circle(shape):\n",
    "    def __init__(self, rad):\n",
    "        self.rad=rad \n",
    "    def area(self):\n",
    "        print(3.14*self.rad*self.rad)\n",
    "    def perimeter(self):\n",
    "        perimeter = 2* 3.14*self.rad\n",
    "class rectangle(shape):\n",
    "    def __init__(self, l, b):\n",
    "        self.l = l\n",
    "        self.b = b\n",
    "    def area(self):\n",
    "        area = self.l*self.b\n",
    "        perimeter= 2*(self.l +self.b)\n",
    "class square(shape):\n",
    "    def __init__(self, a):\n",
    "        self.a=a \n",
    "    def area(self):\n",
    "        area = self.a*self.a\n",
    "        perimeter = 4*self.a\n",
    "        \n",
    "b= circle(2)\n",
    "b.area()\n",
    "b.perimeter()\n",
    "# c= rectangle()\n",
    "# c.area(2,3)\n",
    "# c.perimeter(2,3)\n",
    "# d= square()\n",
    "# d.area(5)\n",
    "# d.perimeter(5)"
   ]
  },
  {
   "cell_type": "code",
   "execution_count": null,
   "id": "0ac6890b-ae78-49a0-89c1-ee7989a31480",
   "metadata": {},
   "outputs": [],
   "source": [
    "#Linked List\n",
    "class node:\n",
    "    def __init__(self,data):\n",
    "        self.data = data\n",
    "        self.next = None\n",
    "class linkedlist:\n",
    "    def __init__(self):\n",
    "        self.head = None\n",
    "\n",
    "    def insertAtBeg(Self,data):\n",
    "        newnode = node(data)\n",
    "        if self.head == None:\n",
    "            self.head = newnode\n",
    "        else:\n",
    "            newnode.next =self.head\n",
    "            self.head =newnode\n"
   ]
  }
 ],
 "metadata": {
  "kernelspec": {
   "display_name": "Python 3 (ipykernel)",
   "language": "python",
   "name": "python3"
  },
  "language_info": {
   "codemirror_mode": {
    "name": "ipython",
    "version": 3
   },
   "file_extension": ".py",
   "mimetype": "text/x-python",
   "name": "python",
   "nbconvert_exporter": "python",
   "pygments_lexer": "ipython3",
   "version": "3.12.7"
  }
 },
 "nbformat": 4,
 "nbformat_minor": 5
}
