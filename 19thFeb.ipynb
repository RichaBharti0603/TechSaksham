{
 "cells": [
  {
   "cell_type": "code",
   "execution_count": 45,
   "id": "7fcf0948-8d8c-4b84-a984-4cc841cc78ab",
   "metadata": {},
   "outputs": [],
   "source": [
    "import os.path \n",
    "class Workout:\n",
    "    def __init__(self, date, exercise_type, duration, calories_burned):\n",
    "        self.date = date\n",
    "        self.exercise_type = exercise_type\n",
    "        self.duration = duration\n",
    "        self.calories_burned = calories_burned\n",
    "    def __str__(self):\n",
    "        return f\" Date:{self.date} \\t exercise_type:{self.exercise_type} \\t Duration:{self.duration} \\t Calories Burned :{self.calories_burned}\"\n",
    "class User:\n",
    "    def __init__(self, name, age, weight):\n",
    "        self.name = name\n",
    "        self.age = age\n",
    "        self.weight = weight\n",
    "        self.workoutList =[]\n",
    "    def add_workout(self, work):\n",
    "        self.workoutList.append(work)\n",
    "    def view_workout(self):\n",
    "        print (\" Date \\t Exercise_type \\t Duration \\t Calories_burned\")\n",
    "        for work in self.workoutList:\n",
    "            print (f\"{work.date} \\t {work.exercise_type} \\t {work.duration} \\t {work.calories_burned}\")\n",
    "    def save_data(self,filename):\n",
    "        if os.path.isfile(filename):\n",
    "            with open(filename,\"r\") as file:\n",
    "                lines = file.readlines()\n",
    "            for line in lines:\n",
    "                line = line.split(',')\n",
    "                w= workout(line[0], line[1],line[2],line[3][:-1])\n",
    "                self.workoutList.append(w)\n",
    "        st =\"\"\n",
    "        for work in self.workoutList:\n",
    "            st+=f\"{work.date},\\t{work.exercise_type},\\t {work.duration}, \\t {work.calories_burned} \\n\"       \n",
    "        with open(filename,\"w\") as file:\n",
    "            file.write(st)"
   ]
  },
  {
   "cell_type": "code",
   "execution_count": 40,
   "id": "deddf36b-d28e-485a-819b-9f7fd5602d8f",
   "metadata": {},
   "outputs": [
    {
     "name": "stdout",
     "output_type": "stream",
     "text": [
      " Date:19th Feburary 2025 \t exercise_type:Bench \t Duration:45 minutes \t Calories Burned :98\n"
     ]
    }
   ],
   "source": [
    "w = Workout('19th Feburary 2025', 'Bench', '45 minutes', '98')\n",
    "print(w)"
   ]
  },
  {
   "cell_type": "code",
   "execution_count": 41,
   "id": "45615ec0-52f9-4544-b993-672fd64c89ad",
   "metadata": {},
   "outputs": [
    {
     "name": "stdout",
     "output_type": "stream",
     "text": [
      " Date \t Exercise_type \t Duration \t Calories_burned\n",
      "19th Feburary 2025 \t Bench \t 45 minutes \t 98\n",
      "18th Feburary 2025 \t PushUps \t 4O minutes \t 30\n",
      "28th Feburary 2025 \t PushUps \t 4O minutes \t 30\n"
     ]
    }
   ],
   "source": [
    "u = User('Richa', 19, 60)\n",
    "u.add_workout(Workout('19th Feburary 2025', 'Bench', '45 minutes', '98'))\n",
    "u.add_workout(Workout('18th Feburary 2025', 'PushUps', '4O minutes', '30'))\n",
    "u.add_workout(Workout('28th Feburary 2025', 'PushUps', '4O minutes', '30'))\n",
    "u.view_workout()"
   ]
  },
  {
   "cell_type": "code",
   "execution_count": 46,
   "id": "2f740b43-3547-4bcd-b2c5-6137c6807e14",
   "metadata": {},
   "outputs": [
    {
     "name": "stdin",
     "output_type": "stream",
     "text": [
      "Enter Name Richa\n",
      "Enter age 19\n",
      "Enter weight 50\n"
     ]
    },
    {
     "name": "stdout",
     "output_type": "stream",
     "text": [
      "1. Add WorkOut \n",
      " 2. View WorkOut \n",
      " 3. Save Data 4. Load Data 5. Exit\n"
     ]
    },
    {
     "name": "stdin",
     "output_type": "stream",
     "text": [
      "Enter Your Choice 1\n",
      "Enter Date -'dd-mm-yyyy' 19-02-2025\n",
      "Enter your desired exercise type.. pushup\n",
      "How much time you spend on your exercise 10\n",
      "Enter calories burned 20\n"
     ]
    },
    {
     "name": "stdout",
     "output_type": "stream",
     "text": [
      "1. Add WorkOut \n",
      " 2. View WorkOut \n",
      " 3. Save Data 4. Load Data 5. Exit\n"
     ]
    },
    {
     "name": "stdin",
     "output_type": "stream",
     "text": [
      "Enter Your Choice 2\n"
     ]
    },
    {
     "name": "stdout",
     "output_type": "stream",
     "text": [
      " Date \t Exercise_type \t Duration \t Calories_burned\n",
      "19-02-2025 \t pushup \t 10 \t 20\n",
      "1. Add WorkOut \n",
      " 2. View WorkOut \n",
      " 3. Save Data 4. Load Data 5. Exit\n"
     ]
    },
    {
     "name": "stdin",
     "output_type": "stream",
     "text": [
      "Enter Your Choice 3\n",
      "Enter File Name exercise.txt\n"
     ]
    },
    {
     "name": "stdout",
     "output_type": "stream",
     "text": [
      "1. Add WorkOut \n",
      " 2. View WorkOut \n",
      " 3. Save Data 4. Load Data 5. Exit\n"
     ]
    },
    {
     "name": "stdin",
     "output_type": "stream",
     "text": [
      "Enter Your Choice 5\n"
     ]
    },
    {
     "name": "stdout",
     "output_type": "stream",
     "text": [
      "Thank You for being here...You worked out for yourself today.\n"
     ]
    }
   ],
   "source": [
    "def main():\n",
    "    name = input(\"Enter Name\")\n",
    "    age = input (\"Enter age\")\n",
    "    weight = input(\"Enter weight\")\n",
    "    newUser = User(name, age, weight)\n",
    "    while True:\n",
    "        print(\"1. Add WorkOut \\n 2. View WorkOut \\n 3. Save Data 4. Load Data 5. Exit\")\n",
    "        ch = int(input(\"Enter Your Choice\"))\n",
    "        if ch ==1:\n",
    "            date = input(\"Enter Date -'dd-mm-yyyy'\")\n",
    "            exercise_type = input(\"Enter your desired exercise type..\")\n",
    "            duration = input (\"How much time you spend on your exercise\")\n",
    "            calories_burned = input(\"Enter calories burned\")\n",
    "            w = Workout(date, exercise_type, duration, calories_burned)\n",
    "            newUser.add_workout(w)\n",
    "        elif ch ==2:\n",
    "            newUser.view_workout()\n",
    "        elif ch==3:\n",
    "            filename = input(\"Enter File Name\")\n",
    "            newUser.save_data(filename)\n",
    "        elif ch ==4:\n",
    "            pass\n",
    "        elif ch==5:\n",
    "            print(\"Thank You for being here...You worked out for yourself today.\")\n",
    "            break\n",
    "        else:\n",
    "            print(\"Chole Bhature\")\n",
    "main()        "
   ]
  },
  {
   "cell_type": "code",
   "execution_count": null,
   "id": "62bd8af1-fe76-47f8-bdb2-4a8cdef2c28b",
   "metadata": {},
   "outputs": [],
   "source": []
  }
 ],
 "metadata": {
  "kernelspec": {
   "display_name": "Python 3 (ipykernel)",
   "language": "python",
   "name": "python3"
  },
  "language_info": {
   "codemirror_mode": {
    "name": "ipython",
    "version": 3
   },
   "file_extension": ".py",
   "mimetype": "text/x-python",
   "name": "python",
   "nbconvert_exporter": "python",
   "pygments_lexer": "ipython3",
   "version": "3.12.7"
  }
 },
 "nbformat": 4,
 "nbformat_minor": 5
}
