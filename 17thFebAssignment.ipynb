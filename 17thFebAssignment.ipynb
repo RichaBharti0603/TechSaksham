{
 "cells": [
  {
   "cell_type": "code",
   "execution_count": 1,
   "id": "c353141b-c744-44b9-b052-9a08fa1d9242",
   "metadata": {},
   "outputs": [
    {
     "ename": "ImportError",
     "evalue": "attempted relative import with no known parent package",
     "output_type": "error",
     "traceback": [
      "\u001b[1;31m---------------------------------------------------------------------------\u001b[0m",
      "\u001b[1;31mImportError\u001b[0m                               Traceback (most recent call last)",
      "Cell \u001b[1;32mIn[1], line 2\u001b[0m\n\u001b[0;32m      1\u001b[0m \u001b[38;5;66;03m#__init__.py\u001b[39;00m\n\u001b[1;32m----> 2\u001b[0m \u001b[38;5;28;01mfrom\u001b[39;00m \u001b[38;5;21;01m.\u001b[39;00m\u001b[38;5;21;01mmath_operations\u001b[39;00m \u001b[38;5;28;01mimport\u001b[39;00m add, subtract, multiply, divide\n\u001b[0;32m      3\u001b[0m \u001b[38;5;28;01mfrom\u001b[39;00m \u001b[38;5;21;01m.\u001b[39;00m\u001b[38;5;21;01mgreetings\u001b[39;00m \u001b[38;5;28;01mimport\u001b[39;00m greet_user\n",
      "\u001b[1;31mImportError\u001b[0m: attempted relative import with no known parent package"
     ]
    }
   ],
   "source": [
    "#__init__.py\n",
    "from .math_operations import add, subtract, multiply, divide\n",
    "from .greetings import greet_user\n"
   ]
  },
  {
   "cell_type": "code",
   "execution_count": 2,
   "id": "02a8cdeb-8a63-439c-ab8d-aeb5b707d278",
   "metadata": {},
   "outputs": [],
   "source": [
    "#mathOperations.py\n",
    "def add(a, b):\n",
    "    return a + b\n",
    "\n",
    "def subtract(a, b):\n",
    "    return a - b\n",
    "\n",
    "def multiply(a, b):\n",
    "    return a * b\n",
    "\n",
    "def divide(a, b):\n",
    "    if b == 0:\n",
    "        return \"Error! Division by zero.\"\n",
    "    return a / b\n"
   ]
  },
  {
   "cell_type": "code",
   "execution_count": 3,
   "id": "77cca87c-f14a-4a16-9b73-6b6d03f45891",
   "metadata": {},
   "outputs": [],
   "source": [
    "#greetings.py\n",
    "def greet_user(name):\n",
    "    return f\"Hello, {name}! Welcome to our Python project.\"\n"
   ]
  },
  {
   "cell_type": "code",
   "execution_count": null,
   "id": "26ecfd2e-af6b-4d05-8065-8235493edb92",
   "metadata": {},
   "outputs": [],
   "source": [
    "#main.py\n",
    "from my_package import add, subtract, multiply, divide, greet_user\n",
    "\n",
    "def main():\n",
    "    print(greet_user(\"Richa\"))\n",
    "\n",
    "    # Perform basic operations\n",
    "    print(\"Addition:\", add(10, 5))\n",
    "    print(\"Subtraction:\", subtract(10, 5))\n",
    "    print(\"Multiplication:\", multiply(10, 5))\n",
    "    print(\"Division:\", divide(10, 5))\n",
    "\n",
    "if __name__ == \"__main__\":\n",
    "    main()\n"
   ]
  }
 ],
 "metadata": {
  "kernelspec": {
   "display_name": "Python 3 (ipykernel)",
   "language": "python",
   "name": "python3"
  },
  "language_info": {
   "codemirror_mode": {
    "name": "ipython",
    "version": 3
   },
   "file_extension": ".py",
   "mimetype": "text/x-python",
   "name": "python",
   "nbconvert_exporter": "python",
   "pygments_lexer": "ipython3",
   "version": "3.12.7"
  }
 },
 "nbformat": 4,
 "nbformat_minor": 5
}
