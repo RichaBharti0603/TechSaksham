{
 "cells": [
  {
   "cell_type": "code",
   "execution_count": 1,
   "id": "9fa29136-cfd5-4ea9-9915-cabf7c3b5b4f",
   "metadata": {},
   "outputs": [
    {
     "ename": "IndexError",
     "evalue": "list index out of range",
     "output_type": "error",
     "traceback": [
      "\u001b[1;31m---------------------------------------------------------------------------\u001b[0m",
      "\u001b[1;31mIndexError\u001b[0m                                Traceback (most recent call last)",
      "Cell \u001b[1;32mIn[1], line 2\u001b[0m\n\u001b[0;32m      1\u001b[0m l\u001b[38;5;241m=\u001b[39m[\u001b[38;5;241m1\u001b[39m,\u001b[38;5;241m2\u001b[39m]\n\u001b[1;32m----> 2\u001b[0m l[\u001b[38;5;241m3\u001b[39m]\n",
      "\u001b[1;31mIndexError\u001b[0m: list index out of range"
     ]
    }
   ],
   "source": [
    "l=[1,2]\n",
    "l[3]"
   ]
  },
  {
   "cell_type": "code",
   "execution_count": 3,
   "id": "8c6b1394-17d4-459d-8a95-675e4021e84f",
   "metadata": {},
   "outputs": [
    {
     "ename": "FileNotFoundError",
     "evalue": "[Errno 2] No such file or directory: 'studentRecond.txt'",
     "output_type": "error",
     "traceback": [
      "\u001b[1;31m---------------------------------------------------------------------------\u001b[0m",
      "\u001b[1;31mFileNotFoundError\u001b[0m                         Traceback (most recent call last)",
      "Cell \u001b[1;32mIn[3], line 1\u001b[0m\n\u001b[1;32m----> 1\u001b[0m file \u001b[38;5;241m=\u001b[39m\u001b[38;5;28mopen\u001b[39m(\u001b[38;5;124m\"\u001b[39m\u001b[38;5;124mstudentRecond.txt\u001b[39m\u001b[38;5;124m\"\u001b[39m,\u001b[38;5;124m\"\u001b[39m\u001b[38;5;124mr\u001b[39m\u001b[38;5;124m\"\u001b[39m)\n",
      "File \u001b[1;32m~\\anaconda31\\Lib\\site-packages\\IPython\\core\\interactiveshell.py:324\u001b[0m, in \u001b[0;36m_modified_open\u001b[1;34m(file, *args, **kwargs)\u001b[0m\n\u001b[0;32m    317\u001b[0m \u001b[38;5;28;01mif\u001b[39;00m file \u001b[38;5;129;01min\u001b[39;00m {\u001b[38;5;241m0\u001b[39m, \u001b[38;5;241m1\u001b[39m, \u001b[38;5;241m2\u001b[39m}:\n\u001b[0;32m    318\u001b[0m     \u001b[38;5;28;01mraise\u001b[39;00m \u001b[38;5;167;01mValueError\u001b[39;00m(\n\u001b[0;32m    319\u001b[0m         \u001b[38;5;124mf\u001b[39m\u001b[38;5;124m\"\u001b[39m\u001b[38;5;124mIPython won\u001b[39m\u001b[38;5;124m'\u001b[39m\u001b[38;5;124mt let you open fd=\u001b[39m\u001b[38;5;132;01m{\u001b[39;00mfile\u001b[38;5;132;01m}\u001b[39;00m\u001b[38;5;124m by default \u001b[39m\u001b[38;5;124m\"\u001b[39m\n\u001b[0;32m    320\u001b[0m         \u001b[38;5;124m\"\u001b[39m\u001b[38;5;124mas it is likely to crash IPython. If you know what you are doing, \u001b[39m\u001b[38;5;124m\"\u001b[39m\n\u001b[0;32m    321\u001b[0m         \u001b[38;5;124m\"\u001b[39m\u001b[38;5;124myou can use builtins\u001b[39m\u001b[38;5;124m'\u001b[39m\u001b[38;5;124m open.\u001b[39m\u001b[38;5;124m\"\u001b[39m\n\u001b[0;32m    322\u001b[0m     )\n\u001b[1;32m--> 324\u001b[0m \u001b[38;5;28;01mreturn\u001b[39;00m io_open(file, \u001b[38;5;241m*\u001b[39margs, \u001b[38;5;241m*\u001b[39m\u001b[38;5;241m*\u001b[39mkwargs)\n",
      "\u001b[1;31mFileNotFoundError\u001b[0m: [Errno 2] No such file or directory: 'studentRecond.txt'"
     ]
    }
   ],
   "source": [
    "file =open(\"studentRecond.txt\",\"r\")"
   ]
  },
  {
   "cell_type": "code",
   "execution_count": 18,
   "id": "6397c330-14c5-4db8-8db5-320fafbf9ac0",
   "metadata": {},
   "outputs": [],
   "source": [
    "file =open(\"studentRecord.txt\",\"a\")#cursor remains at start \n",
    "file.write (\"Welcome \")\n",
    "\n",
    "file.close()"
   ]
  },
  {
   "cell_type": "code",
   "execution_count": 9,
   "id": "c268558c-e481-4486-aaaa-639a92df8186",
   "metadata": {},
   "outputs": [],
   "source": [
    "#while using with command you dont need to close file explixitly..it is automatically done when you come out of the block\n",
    "with open(\"studentRecord.txt\",'a') as file:\n",
    "    file.write(\"\\n Writing through with...\")"
   ]
  },
  {
   "cell_type": "code",
   "execution_count": 10,
   "id": "cf1db951-a50c-420e-a7a9-87e7df090858",
   "metadata": {},
   "outputs": [
    {
     "name": "stdout",
     "output_type": "stream",
     "text": [
      "name =Vandana\n",
      "name=Vandana\n"
     ]
    }
   ],
   "source": [
    "name =\"Vandana\"\n",
    "print (\"name ={}\".format(name))\n",
    "print(f\"name={name}\")"
   ]
  },
  {
   "cell_type": "code",
   "execution_count": 11,
   "id": "93e1782d-17ae-4089-868b-1d638741fcba",
   "metadata": {},
   "outputs": [],
   "source": [
    "#Write operation using sequential method:\n",
    "name =\"Richa\"\n",
    "branch =\"CSE\"\n",
    "roll = 26152\n",
    "mobile = 8102271172\n",
    "\n",
    "#write in file comma seprated\n",
    "with open(\"studentRecord.txt\",\"w\") as file:\n",
    "    file.write(f\"{roll},{name},{branch},{mobile}\")\n"
   ]
  },
  {
   "cell_type": "code",
   "execution_count": 25,
   "id": "2a5036a0-2159-455c-b55e-0911323bdeb4",
   "metadata": {},
   "outputs": [
    {
     "name": "stdin",
     "output_type": "stream",
     "text": [
      "Enter Name Gopal Sir\n",
      "Enter roll no. 23456\n",
      "Enter branch cse\n",
      "Enter mobile number 283672692798\n"
     ]
    }
   ],
   "source": [
    "#writing ina text file with function:\n",
    "def addrecord(roll, name, branch,mobile):\n",
    "    with open(\"studentRecord.txt\",\"a\") as file:\n",
    "        file.write(f\"{roll},{name},{branch},{mobile}\\n\")\n",
    "name =input(\"Enter Name\")\n",
    "roll = input(\"Enter roll no.\")\n",
    "branch =input(\"Enter branch\")\n",
    "mobile = input(\"Enter mobile number\")\n",
    "addrecord(roll,name,branch,mobile)\n"
   ]
  },
  {
   "cell_type": "code",
   "execution_count": 16,
   "id": "a8bb23a1-637f-4b7c-acce-b6f994449eb5",
   "metadata": {},
   "outputs": [
    {
     "name": "stdout",
     "output_type": "stream",
     "text": [
      "26152,Richa,CSE,810227117226152,Richa,CSE,8102271172\n",
      " \n",
      " 26152,Richa,CSE,8102271172\n",
      " \n",
      " 26345,Diksha,MBBS,8102271172\n",
      " \n",
      " 26152,Richa,CSE,8102271172\n",
      "\n"
     ]
    }
   ],
   "source": [
    "#file.readlines: returns a list of string where each string represents a line\n",
    "#file.read : returns whole string\n",
    "#file.readline: return a string as a line\n",
    "with open(\"studentRecord.txt\",\"r\") as file:\n",
    "    print(file.read())"
   ]
  },
  {
   "cell_type": "code",
   "execution_count": 17,
   "id": "82c8b526-838c-4fa4-8116-85e5195d8e39",
   "metadata": {},
   "outputs": [
    {
     "name": "stdout",
     "output_type": "stream",
     "text": [
      "26152,Richa,CSE,810227117226152,Richa,CSE,8102271172\n",
      "\n"
     ]
    }
   ],
   "source": [
    "with open(\"studentRecord.txt\",\"r\") as file:\n",
    "    print(file.readline())"
   ]
  },
  {
   "cell_type": "code",
   "execution_count": 19,
   "id": "e8d5c632-65da-455d-90e6-e1cbaf16ff08",
   "metadata": {},
   "outputs": [
    {
     "name": "stdout",
     "output_type": "stream",
     "text": [
      "['26152,Richa,CSE,810227117226152,Richa,CSE,8102271172\\n', ' \\n', ' 26152,Richa,CSE,8102271172\\n', ' \\n', ' 26345,Diksha,MBBS,8102271172\\n', ' \\n', ' 26152,Richa,CSE,8102271172\\n', 'Welcome ']\n"
     ]
    }
   ],
   "source": [
    "with open(\"studentRecord.txt\",\"r\") as file:\n",
    "    print(file.readlines())"
   ]
  },
  {
   "cell_type": "code",
   "execution_count": 27,
   "id": "e0f9a25d-6499-474b-8abc-720e57d3aeb5",
   "metadata": {},
   "outputs": [
    {
     "name": "stdout",
     "output_type": "stream",
     "text": [
      "Roll\t Name \t Branch \t Mobile No.\n",
      "26152 \n",
      "26345 \n",
      "2345 \n",
      "2345 \n",
      "23456 \n"
     ]
    }
   ],
   "source": [
    "#function to display all file record\n",
    "def displayAllRecord():\n",
    "    with open(\"studentRecord.txt\",\"r\") as file:\n",
    "        lines= file.readlines()\n",
    "        print(\"Roll\\t Name \\t Branch \\t Mobile No.\")\n",
    "        for line in lines:\n",
    "            line = line.split(',')\n",
    "            print(f\"{line[0]} \\t {line[1]} \\t {line[2]} \\t {line[3][:-1]}\")\n",
    "displayAllRecord()      "
   ]
  },
  {
   "cell_type": "code",
   "execution_count": 33,
   "id": "54c4c651-eab4-4cb4-926d-4c06e84533bc",
   "metadata": {},
   "outputs": [
    {
     "name": "stdin",
     "output_type": "stream",
     "text": [
      "Enter roll no to search 26152\n"
     ]
    },
    {
     "name": "stdout",
     "output_type": "stream",
     "text": [
      "26152 \t Richa \t CSE \t 8102271172\n"
     ]
    }
   ],
   "source": [
    "#function to search\n",
    "def search():\n",
    "    rollToSearch =input(\"Enter roll no to search\")\n",
    "    with open(\"studentRecord.txt\",\"r\") as file:\n",
    "        lines=file.readlines()\n",
    "        for line in lines:\n",
    "            line=line.split(\",\")\n",
    "            if (rollToSearch == line[0]):\n",
    "                print(f\"{line[0]} \\t {line[1]} \\t {line[2]} \\t {line[3][:-1]}\")\n",
    "search()\n",
    "                \n",
    "            \n",
    "             \n",
    "        "
   ]
  },
  {
   "cell_type": "code",
   "execution_count": 42,
   "id": "f5c598ea-142f-4373-9363-ea4d56e735f5",
   "metadata": {},
   "outputs": [
    {
     "name": "stdout",
     "output_type": "stream",
     "text": [
      "26152,Richa,CSE,8102271172\n",
      "\n"
     ]
    }
   ],
   "source": [
    "def search(branch):\n",
    "    with open (\"studentRecord.txt\", \"r\") as file:\n",
    "        lines = file.readlines()\n",
    "    for line in lines: \n",
    "        if line.split(',')[2] == branch:\n",
    "            print(line)\n",
    "            break\n",
    "    else:\n",
    "        print(\"heelloo\")\n",
    "        \n",
    "search(\"CSE\")"
   ]
  },
  {
   "cell_type": "code",
   "execution_count": 69,
   "id": "492b7bc0-157b-4b27-a1b2-9e019943d601",
   "metadata": {},
   "outputs": [],
   "source": [
    "class student:\n",
    "    def __init__(self,roll,name,branch,mobile):\n",
    "        self.roll = roll\n",
    "        self.name =name\n",
    "        self.branch = branch\n",
    "        self.mobile = mobile\n",
    "        self.__addrecord()\n",
    "    def __addrecord(self):\n",
    "        with open(\"studentRecord.txt\",\"r\") as file:\n",
    "            lines = file.readlines()\n",
    "        for line in lines:\n",
    "            if line.split(',')[0] == str(self.roll):\n",
    "                print(\"Student already registered\")\n",
    "                break\n",
    "        else:\n",
    "            with open(\"studentRecord.txt\",\"a\") as file:\n",
    "                file.write(f\"{self.roll},{self.name},{self.branch},{self.mobile} \\n\")\n",
    "    def search():\n",
    "        with open(\"studentRecord.txt\",\"r\") as file:\n",
    "            lines=file.readlines()\n",
    "        for line in lines:\n",
    "            line=line.split(\",\")\n",
    "            if (rollToSearch == line[0]):\n",
    "                print(f\"{self.roll},{self.name},{self.branch},{self.mobile} \\n\")\n",
    "    def update(self, roll,name,branch):\n",
    "        with open(\"studentRecord.txt\",\"r\") as file:\n",
    "            lines = file.readlines()\n",
    "        for i in range(len(lines)):\n",
    "            if lines[i].split(',')[0] ==str(roll):\n",
    "                lines[i]=f\"{roll},{name},{branch},{mobile}\\n\"\n",
    "                break\n",
    "        with open(\"studentRecord.txt\",\"w\") as file:\n",
    "            file.write(\"\".join(lines))\n",
    "                "
   ]
  },
  {
   "cell_type": "code",
   "execution_count": 70,
   "id": "527f6078-3493-4f53-87c0-0a199b59e5a9",
   "metadata": {},
   "outputs": [],
   "source": [
    "s1 = student(2003,\"Richa\",\"CSE\", 8102271172)"
   ]
  },
  {
   "cell_type": "code",
   "execution_count": 72,
   "id": "70499deb-f1a6-4dc3-af74-cfe2c959e82b",
   "metadata": {},
   "outputs": [],
   "source": [
    "s1.update(\"2005\",\"Diksha\", \"CSE\")"
   ]
  },
  {
   "cell_type": "code",
   "execution_count": null,
   "id": "b543a864-ae93-498d-9872-c27534e5535f",
   "metadata": {},
   "outputs": [],
   "source": []
  }
 ],
 "metadata": {
  "kernelspec": {
   "display_name": "Python 3 (ipykernel)",
   "language": "python",
   "name": "python3"
  },
  "language_info": {
   "codemirror_mode": {
    "name": "ipython",
    "version": 3
   },
   "file_extension": ".py",
   "mimetype": "text/x-python",
   "name": "python",
   "nbconvert_exporter": "python",
   "pygments_lexer": "ipython3",
   "version": "3.12.7"
  }
 },
 "nbformat": 4,
 "nbformat_minor": 5
}
