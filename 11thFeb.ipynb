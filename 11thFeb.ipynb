{
 "cells": [
  {
   "cell_type": "code",
   "execution_count": 4,
   "id": "d3ba4a4a-be1a-47b4-8707-58fd66e497c5",
   "metadata": {},
   "outputs": [
    {
     "name": "stdin",
     "output_type": "stream",
     "text": [
      " Richa, 26152, CSE,90\n",
      " Mudita, 26111, CSE, 90\n",
      " Priti, 26148, CSE, 90\n",
      " Diksha, 26666,CSE, 90\n"
     ]
    }
   ],
   "source": [
    "student_info = {}\n",
    "student_id_list =[]\n",
    "id =2000\n",
    "\n",
    "stu_data = tuple ([val for val in input().split(\",\")])\n",
    "id =id+1\n",
    "student_info[id]= stu_data\n",
    "student_id_list.append(id)\n",
    "\n",
    "stu_data = tuple ([val for val in input().split(\",\")])\n",
    "id =id+1\n",
    "student_info[id]= stu_data\n",
    "student_id_list.append(id)\n",
    "\n",
    "stu_data = tuple ([val for val in input().split(\",\")])\n",
    "id =id+1\n",
    "student_info[id]= stu_data\n",
    "student_id_list.append(id)\n",
    "\n",
    "\n",
    "stu_data = tuple ([val for val in input().split(\",\")])\n",
    "id =id+1\n",
    "student_info[id]= stu_data\n",
    "student_id_list.append(id)"
   ]
  },
  {
   "cell_type": "code",
   "execution_count": 13,
   "id": "47625897-ca84-4cb3-9ce2-39cdb112825d",
   "metadata": {},
   "outputs": [
    {
     "name": "stdout",
     "output_type": "stream",
     "text": [
      "\n",
      "  Student-ID \t Name \t RollNo \t Branch \t Marks\n",
      " 2001  \t Richa \t  26152 \t\t  CSE   90\n",
      " 2002  \t Mudita \t  26111 \t\t  CSE    90\n",
      " 2003  \t Priti \t  26148 \t\t  CSE    90\n",
      " 2004  \t Diksha \t  26666 \t\t CSE    90\n"
     ]
    }
   ],
   "source": [
    "#Display All Student\n",
    "print(\"\\n  Student-ID \\t Name \\t RollNo \\t Branch \\t Marks\")\n",
    "for key,val in student_info.items():\n",
    "    print (\" {}  \\t {} \\t {} \\t\\t {}   {}\".format(key, val[0],val[1],val[2],val[3]))"
   ]
  },
  {
   "cell_type": "code",
   "execution_count": 14,
   "id": "d71e0f62-4cb9-47e2-b167-25c0d9cfe497",
   "metadata": {},
   "outputs": [
    {
     "name": "stdin",
     "output_type": "stream",
     "text": [
      "Enter branch for search CSE\n"
     ]
    },
    {
     "name": "stdout",
     "output_type": "stream",
     "text": [
      "\n",
      "Name \t RollNo \t Branch \t Marks\n",
      "Diksha \t  26666 \t\t CSE    90\n"
     ]
    }
   ],
   "source": [
    "#Search all student with given branch\n",
    "stubranch = input(\"Enter branch for search\")\n",
    "print(\"\\nName \\t RollNo \\t Branch \\t Marks\")\n",
    "for val in student_info.values():\n",
    "    if val[2] == stubranch:\n",
    "          print (\"{} \\t {} \\t\\t {}   {}\".format(val[0],val[1],val[2],val[3]))"
   ]
  },
  {
   "cell_type": "code",
   "execution_count": 15,
   "id": "d2b8a746-47e3-4e79-9da3-b8e1b0134533",
   "metadata": {},
   "outputs": [
    {
     "data": {
      "text/plain": [
       "{2001: ('Richa', ' 26152', ' CSE', '90'),\n",
       " 2002: ('Mudita', ' 26111', ' CSE', ' 90'),\n",
       " 2003: ('Priti', ' 26148', ' CSE', ' 90'),\n",
       " 2004: ('Diksha', ' 26666', 'CSE', ' 90')}"
      ]
     },
     "execution_count": 15,
     "metadata": {},
     "output_type": "execute_result"
    }
   ],
   "source": [
    "#Update Student Record\n",
    "student_info "
   ]
  },
  {
   "cell_type": "code",
   "execution_count": null,
   "id": "69d4f665-9750-4b2d-aa62-0bd3ed2f068d",
   "metadata": {},
   "outputs": [],
   "source": []
  }
 ],
 "metadata": {
  "kernelspec": {
   "display_name": "Python 3 (ipykernel)",
   "language": "python",
   "name": "python3"
  },
  "language_info": {
   "codemirror_mode": {
    "name": "ipython",
    "version": 3
   },
   "file_extension": ".py",
   "mimetype": "text/x-python",
   "name": "python",
   "nbconvert_exporter": "python",
   "pygments_lexer": "ipython3",
   "version": "3.12.7"
  }
 },
 "nbformat": 4,
 "nbformat_minor": 5
}
