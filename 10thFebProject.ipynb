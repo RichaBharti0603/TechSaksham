{
 "cells": [
  {
   "cell_type": "code",
   "execution_count": 7,
   "id": "4e9c7194-b0b6-4169-a46d-6afce29ae848",
   "metadata": {},
   "outputs": [
    {
     "name": "stdin",
     "output_type": "stream",
     "text": [
      " Muita, CSE, 26111, 90\n",
      " Monika, CSE, 26000, 29\n",
      " Richa, CSE, 26152, 90\n",
      " Priti, CSE, 26148,90\n"
     ]
    }
   ],
   "source": [
    "student_info = {}\n",
    "student_id_list =[]\n",
    "id =2000\n",
    "\n",
    "stu_data = tuple ([val for val in input().split(\",\")])\n",
    "id =id+1\n",
    "student_info[id]= stu_data\n",
    "student_id_list.append(id)\n",
    "\n",
    "stu_data = tuple ([val for val in input().split(\",\")])\n",
    "id =id+1\n",
    "student_info[id]= stu_data\n",
    "student_id_list.append(id)\n",
    "\n",
    "stu_data = tuple ([val for val in input().split(\",\")])\n",
    "id =id+1\n",
    "student_info[id]= stu_data\n",
    "student_id_list.append(id)\n",
    "\n",
    "\n",
    "stu_data = tuple ([val for val in input().split(\",\")])\n",
    "id =id+1\n",
    "student_info[id]= stu_data\n",
    "student_id_list.append(id)\n"
   ]
  },
  {
   "cell_type": "code",
   "execution_count": 8,
   "id": "1fd54318-9ab5-4bd2-ba8e-8174ac079976",
   "metadata": {},
   "outputs": [
    {
     "data": {
      "text/plain": [
       "{2001: ('Muita', ' CSE', ' 26111', ' 90'),\n",
       " 2002: ('Monika', ' CSE', ' 26000', ' 29'),\n",
       " 2003: ('Richa', ' CSE', ' 26152', ' 90'),\n",
       " 2004: ('Priti', ' CSE', ' 26148', '90')}"
      ]
     },
     "execution_count": 8,
     "metadata": {},
     "output_type": "execute_result"
    }
   ],
   "source": [
    "student_info"
   ]
  },
  {
   "cell_type": "code",
   "execution_count": 9,
   "id": "dae28533-93c6-48b9-b8bd-7813decad4e2",
   "metadata": {},
   "outputs": [
    {
     "name": "stdin",
     "output_type": "stream",
     "text": [
      "Enter Your Id 26543\n"
     ]
    },
    {
     "name": "stdout",
     "output_type": "stream",
     "text": [
      "Student gayab \n"
     ]
    }
   ],
   "source": [
    "enterId = int(input(\"Enter Your Id\"))\n",
    "result = student_info.get(enterId, False)\n",
    "if result:\n",
    "    print(result)\n",
    "else:\n",
    "    print(\"Student gayab \")\n",
    "        \n"
   ]
  },
  {
   "cell_type": "code",
   "execution_count": 12,
   "id": "b3fdda01-37b1-4514-a808-731b84237d76",
   "metadata": {},
   "outputs": [
    {
     "name": "stdin",
     "output_type": "stream",
     "text": [
      "Enter Your Id 2002\n"
     ]
    },
    {
     "name": "stdout",
     "output_type": "stream",
     "text": [
      "Gyiii\n"
     ]
    }
   ],
   "source": [
    "enterId = int(input(\"Enter Your Id\"))\n",
    "if enterId in student_id_list:\n",
    "    student_info.pop(enterId)\n",
    "    student_id_list.remove(enterId)\n",
    "    print (\"Gyiii\")\n",
    "else:\n",
    "    print (\"Areyy nhi gyii\")\n",
    " "
   ]
  },
  {
   "cell_type": "code",
   "execution_count": null,
   "id": "c8762337-de1c-4d1f-9b7d-9feccaeb2b80",
   "metadata": {},
   "outputs": [],
   "source": []
  }
 ],
 "metadata": {
  "kernelspec": {
   "display_name": "Python 3 (ipykernel)",
   "language": "python",
   "name": "python3"
  },
  "language_info": {
   "codemirror_mode": {
    "name": "ipython",
    "version": 3
   },
   "file_extension": ".py",
   "mimetype": "text/x-python",
   "name": "python",
   "nbconvert_exporter": "python",
   "pygments_lexer": "ipython3",
   "version": "3.12.7"
  }
 },
 "nbformat": 4,
 "nbformat_minor": 5
}
